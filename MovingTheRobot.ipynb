{
 "cells": [
  {
   "cell_type": "code",
   "execution_count": 14,
   "metadata": {},
   "outputs": [],
   "source": [
    "import numpy as np\n",
    "import math"
   ]
  },
  {
   "cell_type": "code",
   "execution_count": 3,
   "metadata": {},
   "outputs": [],
   "source": [
    "tetha1 = 0 #'value of joint1' #never going to use.\n",
    "tetha2 = 0 #'value of joint2' \n",
    "tetha3 = 0 #'value of joint3' \n",
    "tetha4 = 0 #'value of joint4' "
   ]
  },
  {
   "cell_type": "code",
   "execution_count": 22,
   "metadata": {},
   "outputs": [],
   "source": [
    "#finds the existing point in the new vector space\n",
    "def Rx(tetha): #tehta needs to be in radians\n",
    "    s = math.sin (tetha)\n",
    "    c = math.cos (tetha)\n",
    "    return np.array([[1,0,0] , [0,c,-s] , [0,s,c]])\n",
    "\n",
    "def Ry(tetha): #tehta needs to be in radians\n",
    "    s = math.sin (tetha)\n",
    "    c = math.cos (tetha)\n",
    "    return np.array([[c,0,-s] , [0,1,0] , [s,0,c]])\n",
    "\n",
    "def Rz(tetha): #tehta needs to be in radians\n",
    "    s = math.sin (tetha)\n",
    "    c = math.cos (tetha)\n",
    "    return np.array([[c,-s,0] , [s,c,0] , [0,0,1]])"
   ]
  },
  {
   "cell_type": "code",
   "execution_count": null,
   "metadata": {},
   "outputs": [],
   "source": [
    "#shifts the existing point with respect to the shift in vector space\n",
    "def Mx(tetha): #tehta needs to be in radians\n",
    "    s = math.sin (tetha)\n",
    "    c = math.cos (tetha)\n",
    "    return np.array([[1,0,0] , [0,c,-s] , [0,s,c]])\n",
    "\n",
    "def My(tetha): #tehta needs to be in radians\n",
    "    s = math.sin (tetha)\n",
    "    c = math.cos (tetha)\n",
    "    return np.array([[c,0,-s] , [0,1,0] , [s,0,c]])\n",
    "\n",
    "def Mz(tetha): #tehta needs to be in radians\n",
    "    s = math.sin (tetha)\n",
    "    c = math.cos (tetha)\n",
    "    return np.array([[c,-s,0] , [s,c,0] , [0,0,1]])\n",
    "    return np.array([[c,-s,0] , [s,c,0] , [0,0,1]])"
   ]
  },
  {
   "cell_type": "code",
   "execution_count": 27,
   "metadata": {},
   "outputs": [
    {
     "data": {
      "text/plain": [
       "array([ 0.00000000e+00, -1.00000000e+00,  3.26794897e-07])"
      ]
     },
     "execution_count": 27,
     "metadata": {},
     "output_type": "execute_result"
    }
   ],
   "source": [
    "Rx(0.785398*2).dot([0,0,1]) #methods are working."
   ]
  },
  {
   "cell_type": "code",
   "execution_count": 20,
   "metadata": {},
   "outputs": [],
   "source": [
    "yellow_position = [0,0,0]\n",
    "blue_position = [0,0,3]\n",
    "green_position = [0,0,5]\n",
    "red_position = [0,0,8] #starting position of the end effector\n",
    "\n",
    "target_position = [6,2,-5] #orange-red positions #orange position with respect to the red"
   ]
  },
  {
   "cell_type": "code",
   "execution_count": null,
   "metadata": {},
   "outputs": [],
   "source": [
    "#find the point you want to move\n",
    "#standardise it with respect to the point which is going to move (pt.centre)\n",
    "#move the point along the transformation\n",
    "#add the center back to the point to get the overall position"
   ]
  },
  {
   "cell_type": "code",
   "execution_count": null,
   "metadata": {},
   "outputs": [],
   "source": [
    "def move (args):  #where args is a 1x4 vector of the tetha changes. ONLY 1 element must contain value becuase the order of movement matters.\n",
    "    blue_position = Rz(args[0]).dot(blue_position)\n",
    "    green_position = Rz(args[0]).dot(green_position)\n",
    "    red_position = Rz(args[0]).dot(red_position)\n",
    "    \n",
    "    \n",
    "    green_position = Rx(args[1]).dot(green_position)\n",
    "    red_position = Rx(args[1]).dot(red_position)\n",
    "    \n",
    "    green_position = Ry(args[2]).dot(green_position)\n",
    "    red_position = Ry(args[2]).dot(red_position)\n",
    "    \n",
    "    red_position = Rx(args[3]).dot(red_position)"
   ]
  },
  {
   "cell_type": "code",
   "execution_count": null,
   "metadata": {},
   "outputs": [],
   "source": []
  }
 ],
 "metadata": {
  "kernelspec": {
   "display_name": "Python 3",
   "language": "python",
   "name": "python3"
  },
  "language_info": {
   "codemirror_mode": {
    "name": "ipython",
    "version": 3
   },
   "file_extension": ".py",
   "mimetype": "text/x-python",
   "name": "python",
   "nbconvert_exporter": "python",
   "pygments_lexer": "ipython3",
   "version": "3.6.7"
  }
 },
 "nbformat": 4,
 "nbformat_minor": 2
}
