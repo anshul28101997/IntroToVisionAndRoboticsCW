{
 "cells": [
  {
   "cell_type": "code",
   "execution_count": 8,
   "metadata": {},
   "outputs": [],
   "source": [
    "import numpy as np\n",
    "import math"
   ]
  },
  {
   "cell_type": "code",
   "execution_count": 40,
   "metadata": {},
   "outputs": [],
   "source": [
    "#global variables\n",
    "yellow_position = np.array([0,0,0])\n",
    "blue_position = np.array([0,0,3])\n",
    "green_position = np.array([0,0,5])\n",
    "red_position = np.array([0,0,8]) #starting position of the end effector\n",
    "\n",
    "target_position = np.array([6,2,-5]) #target #orange-red positions #orange position with respect to the red\n",
    "tetha = np.array([0,0,0,0])"
   ]
  },
  {
   "cell_type": "code",
   "execution_count": 10,
   "metadata": {},
   "outputs": [],
   "source": [
    "#rotation matrix\n",
    "def Rx(tetha): #tehta needs to be in radians\n",
    "    s = math.sin (tetha)\n",
    "    c = math.cos (tetha)\n",
    "    return np.array([[1,0,0] , [0,c,-s] , [0,s,c]])\n",
    "\n",
    "def Ry(tetha): #tehta needs to be in radians\n",
    "    s = math.sin (tetha)\n",
    "    c = math.cos (tetha)\n",
    "    return np.array([[c,0,-s] , [0,1,0] , [s,0,c]])\n",
    "\n",
    "def Rz(tetha): #tehta needs to be in radians\n",
    "    s = math.sin (tetha)\n",
    "    c = math.cos (tetha)\n",
    "    return np.array([[c,-s,0] , [s,c,0] , [0,0,1]])"
   ]
  },
  {
   "cell_type": "code",
   "execution_count": 11,
   "metadata": {},
   "outputs": [],
   "source": [
    "#find the point you want to move\n",
    "#standardise it with respect to the point which is going to move (pt.centre)\n",
    "#move the point along the transformation\n",
    "#add the center back to the point to get the overall position\n",
    "def move (center_fixed, center_tomove, tetha, plane):\n",
    "    center_tomove = center_tomove - center_fixed\n",
    "    if (plane=='x'):\n",
    "        center_tomove = Rx(tetha).dot(center_tomove)\n",
    "    elif (plane=='y'):\n",
    "        center_tomove = Ry(tetha).dot(center_tomove)\n",
    "    else:\n",
    "        center_tomove = Rz(tetha).dot(center_tomove)\n",
    "    center_tomove = center_tomove + center_fixed\n",
    "    return center_tomove"
   ]
  },
  {
   "cell_type": "code",
   "execution_count": 43,
   "metadata": {},
   "outputs": [],
   "source": [
    "def printStatus():\n",
    "    global yellow_position, blue_position, green_position, red_position\n",
    "    print('yellow', yellow_position)\n",
    "    print('blue  ', blue_position)\n",
    "    print('green ', green_position)\n",
    "    print('red   ', red_position)\n",
    "    print('orange', target_position)"
   ]
  },
  {
   "cell_type": "code",
   "execution_count": 36,
   "metadata": {},
   "outputs": [],
   "source": [
    "#[t1,t1,t3,t4] #where args is a 1x4 vector of the tetha changes. \n",
    "#ONLY 1 element must contain value becuase the order of movement matters.\n",
    "def collaborated_movement (args): \n",
    "    global yellow_position, blue_position, green_position, red_position\n",
    "    blue_position = move (yellow_position, blue_position, args[0], 'z')\n",
    "    green_position = move (yellow_position, green_position, args[0], 'z')\n",
    "    red_position = move (yellow_position, red_position, args[0], 'z')\n",
    "    \n",
    "    green_position = move (blue_position, green_position, args[1], 'x')\n",
    "    red_position = move (blue_position, red_position, args[1], 'x')\n",
    "    \n",
    "    green_position = move (blue_position, green_position, args[2], 'y')\n",
    "    red_position = move (blue_position, red_position, args[2], 'y')\n",
    "    \n",
    "    red_position = move (green_position, red_position, args[3], 'x')"
   ]
  },
  {
   "cell_type": "code",
   "execution_count": 44,
   "metadata": {},
   "outputs": [],
   "source": [
    "delta_tetha = np.array([math.pi,0,0,0])\n",
    "collaborated_movement(delta_tetha)\n",
    "tetha = tetha+delta_tetha"
   ]
  },
  {
   "cell_type": "code",
   "execution_count": 45,
   "metadata": {},
   "outputs": [
    {
     "name": "stdout",
     "output_type": "stream",
     "text": [
      "yellow [0 0 0]\n",
      "blue   [0. 0. 3.]\n",
      "green  [ 2.0000000e+00 -2.4492936e-16  3.0000000e+00]\n",
      "red    [ 5.000000e+00 -6.123234e-16  3.000000e+00]\n",
      "orange [ 6  2 -5]\n"
     ]
    }
   ],
   "source": [
    "printStatus()"
   ]
  },
  {
   "cell_type": "code",
   "execution_count": null,
   "metadata": {},
   "outputs": [],
   "source": []
  },
  {
   "cell_type": "code",
   "execution_count": null,
   "metadata": {},
   "outputs": [],
   "source": []
  },
  {
   "cell_type": "code",
   "execution_count": null,
   "metadata": {},
   "outputs": [],
   "source": []
  },
  {
   "cell_type": "code",
   "execution_count": null,
   "metadata": {},
   "outputs": [],
   "source": []
  },
  {
   "cell_type": "code",
   "execution_count": null,
   "metadata": {},
   "outputs": [],
   "source": []
  },
  {
   "cell_type": "code",
   "execution_count": null,
   "metadata": {},
   "outputs": [],
   "source": []
  }
 ],
 "metadata": {
  "kernelspec": {
   "display_name": "Python 3",
   "language": "python",
   "name": "python3"
  },
  "language_info": {
   "codemirror_mode": {
    "name": "ipython",
    "version": 3
   },
   "file_extension": ".py",
   "mimetype": "text/x-python",
   "name": "python",
   "nbconvert_exporter": "python",
   "pygments_lexer": "ipython3",
   "version": "3.7.4"
  }
 },
 "nbformat": 4,
 "nbformat_minor": 2
}
