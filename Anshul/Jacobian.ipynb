{
 "cells": [
  {
   "cell_type": "code",
   "execution_count": 229,
   "metadata": {},
   "outputs": [],
   "source": [
    "import numpy as np\n",
    "import math\n",
    "pi = math.pi \n"
   ]
  },
  {
   "cell_type": "code",
   "execution_count": 230,
   "metadata": {},
   "outputs": [],
   "source": [
    "\n",
    "def H_table (tetha): # The Har\n",
    "    return np.array([\n",
    "        [(pi/2)+tetha[0], (pi/2), 0, 3],\n",
    "        [(pi/2)+tetha[1], (pi/2), 0, 0],\n",
    "        [tetha[2], (-1*pi/2), 3, 0],\n",
    "        [tetha[3], 0, 2, 0]\n",
    "        ])"
   ]
  },
  {
   "cell_type": "code",
   "execution_count": 231,
   "metadata": {},
   "outputs": [],
   "source": [
    "def H_transformation (param):\n",
    "    tetha = param[0]\n",
    "    alpha = param[1]\n",
    "    r = param[2]\n",
    "    d = param[3]\n",
    "    c_t = math.cos(tetha)\n",
    "    s_t = math.sin(tetha)\n",
    "    c_a = math.cos(alpha)\n",
    "    s_a = math.sin(alpha)\n",
    "    return np.array([\n",
    "        [c_t, (-1*s_t*c_a), (s_t*s_a), (r*c_t)],\n",
    "        [s_t, (c_t*c_a), (-1*c_t*s_a), (r*s_t)],\n",
    "        [0, s_a, c_a, d], \n",
    "        [0,0,0,1]\n",
    "        ])"
   ]
  },
  {
   "cell_type": "code",
   "execution_count": 232,
   "metadata": {},
   "outputs": [],
   "source": [
    "def H_matrix(start, end):\n",
    "    matrix = np.eye(4)\n",
    "    for i in range(start, end):\n",
    "        matrix = np.matmul (matrix, H_transformation(H_tab[i]))\n",
    "    return matrix"
   ]
  },
  {
   "cell_type": "code",
   "execution_count": 233,
   "metadata": {},
   "outputs": [],
   "source": [
    "def R(start, end):\n",
    "    matrix = np.eye(4)\n",
    "    for i in range (start+1, end+1):\n",
    "        matrix = np.matmul(matrix, (H_transformation(H_tab[i-1])))\n",
    "    return matrix [0:3,0:3]"
   ]
  },
  {
   "cell_type": "code",
   "execution_count": 234,
   "metadata": {},
   "outputs": [],
   "source": [
    "def d(start, end):\n",
    "    matrix = np.eye(4)\n",
    "    for i in range (start+1, end+1):\n",
    "        matrix = np.matmul(matrix, (H_transformation(H_tab[i-1])))\n",
    "    return (matrix [0:3,3]).reshape((3,1))"
   ]
  },
  {
   "cell_type": "code",
   "execution_count": 239,
   "metadata": {},
   "outputs": [],
   "source": [
    "def Jacobian():\n",
    "    n = 4\n",
    "    jacobian = []\n",
    "    for i in range(0,4):\n",
    "        my_vec = np.matmul(R(0,i), np.array([[0],[0],[1]])).transpose()[0]\n",
    "        temp = np.cross(my_vec , (d(0,n)-d(0,i)).transpose()[0])\n",
    "        jacobian.append(temp)\n",
    "    jacobian = np.asarray(jacobian)\n",
    "    jacobian = jacobian.transpose()\n",
    "    return jacobian\n"
   ]
  },
  {
   "cell_type": "code",
   "execution_count": 251,
   "metadata": {},
   "outputs": [
    {
     "name": "stdout",
     "output_type": "stream",
     "text": [
      "[[-3.0616170e-16 -3.0616170e-16  5.0000000e+00 -1.2246468e-16]\n",
      " [-3.0616170e-16 -5.0000000e+00 -6.1232340e-16 -2.0000000e+00]\n",
      " [ 0.0000000e+00  3.0616170e-16  3.0616170e-16  1.2246468e-16]]\n"
     ]
    }
   ],
   "source": [
    "tetha = [0,0,0,0]\n",
    "H_tab = H_table(tetha)\n",
    "# H1 = H_transformation(H_tab[0])\n",
    "# H2 = H_transformation(H_tab[1])\n",
    "# H3 = H_transformation(H_tab[2])\n",
    "# H4 = H_transformation(H_tab[3])\n",
    "print(Jacobian())"
   ]
  },
  {
   "cell_type": "code",
   "execution_count": 252,
   "metadata": {},
   "outputs": [
    {
     "data": {
      "text/plain": [
       "array([[-3.061617e-16],\n",
       "       [-5.000000e+00],\n",
       "       [ 3.061617e-16]])"
      ]
     },
     "execution_count": 252,
     "metadata": {},
     "output_type": "execute_result"
    }
   ],
   "source": [
    "delta = np.array([0,1,0,0]).reshape(4,1)\n",
    "np.matmul(Jacobian(), delta)"
   ]
  },
  {
   "cell_type": "code",
   "execution_count": null,
   "metadata": {},
   "outputs": [],
   "source": []
  },
  {
   "cell_type": "code",
   "execution_count": null,
   "metadata": {},
   "outputs": [],
   "source": []
  },
  {
   "cell_type": "code",
   "execution_count": null,
   "metadata": {},
   "outputs": [],
   "source": []
  },
  {
   "cell_type": "code",
   "execution_count": null,
   "metadata": {},
   "outputs": [],
   "source": []
  },
  {
   "cell_type": "code",
   "execution_count": null,
   "metadata": {},
   "outputs": [],
   "source": []
  }
 ],
 "metadata": {
  "kernelspec": {
   "display_name": "Python 3",
   "language": "python",
   "name": "python3"
  },
  "language_info": {
   "codemirror_mode": {
    "name": "ipython",
    "version": 3
   },
   "file_extension": ".py",
   "mimetype": "text/x-python",
   "name": "python",
   "nbconvert_exporter": "python",
   "pygments_lexer": "ipython3",
   "version": "3.7.4"
  }
 },
 "nbformat": 4,
 "nbformat_minor": 2
}
