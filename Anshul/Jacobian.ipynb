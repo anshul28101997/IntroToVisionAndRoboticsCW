{
 "cells": [
  {
   "cell_type": "code",
   "execution_count": 1,
   "metadata": {},
   "outputs": [],
   "source": [
    "import numpy as np\n",
    "import math\n",
    "pi = math.pi "
   ]
  },
  {
   "cell_type": "code",
   "execution_count": 2,
   "metadata": {},
   "outputs": [],
   "source": [
    "def H_table (tetha): # The Hartenberg convention #tetha, alpha, r, d\n",
    "    return np.array([\n",
    "        [(pi/2)+tetha[0], (pi/2), 0, 2],\n",
    "        [(pi/2)+tetha[1], (pi/2), 0, 0],\n",
    "        [tetha[2]    , (-1*pi/2), 3, 0],\n",
    "        [tetha[3]    , 0        , 2, 0]\n",
    "        ])"
   ]
  },
  {
   "cell_type": "code",
   "execution_count": 3,
   "metadata": {},
   "outputs": [],
   "source": [
    "def T (param):\n",
    "    \n",
    "    tetha = param[0]\n",
    "    alpha = param[1]\n",
    "    r = param[2]\n",
    "    d = param[3] \n",
    "    \n",
    "    c_t = math.cos(tetha)\n",
    "    s_t = math.sin(tetha)\n",
    "    c_a = math.cos(alpha)\n",
    "    s_a = math.sin(alpha)\n",
    "    \n",
    "    T_tetha = np.array([\n",
    "        [c_t, -1*s_t, 0, 0],\n",
    "        [s_t, c_t, 0, 0],\n",
    "        [0 , 0, 1, 0],\n",
    "        [0 , 0, 0, 1]\n",
    "        ])\n",
    "    T_d = np.array([ #\n",
    "        [1, 0, 0, 0],\n",
    "        [0, 1, 0, 0],\n",
    "        [0 ,0, 1, d],\n",
    "        [0 ,0, 0, 1]\n",
    "        ])\n",
    "    T_r = np.array([\n",
    "        [1, 0, 0, r],\n",
    "        [0, 1, 0, 0],\n",
    "        [0 ,0, 1, 0],\n",
    "        [0 ,0, 0, 1]\n",
    "        ])\n",
    "    T_alpha = np.array([ #\n",
    "        [1 , 0, 0, 0],\n",
    "        [0 ,c_t, -1*s_t, 0],\n",
    "        [0 , s_t, c_t, 0],\n",
    "        [0 , 0, 0, 1]\n",
    "        ])\n",
    "    temp = np.eye(4)\n",
    "    temp = np.matmul (temp, T_tetha)\n",
    "    temp = np.matmul (temp, T_d)\n",
    "    temp = np.matmul (temp, T_r)\n",
    "    temp = np.matmul (temp, T_alpha)\n",
    "    return temp"
   ]
  },
  {
   "cell_type": "code",
   "execution_count": 58,
   "metadata": {},
   "outputs": [
    {
     "name": "stdout",
     "output_type": "stream",
     "text": [
      "[0.55344872 2.54826018 6.21489209]\n"
     ]
    }
   ],
   "source": [
    "tetha = [0,-0.67,0.27,-0.27]\n",
    "H_tab = H_table(tetha)\n",
    "T01 = T(H_tab[0])\n",
    "T12 = T(H_tab[1])\n",
    "T23 = T(H_tab[2])\n",
    "T34 = T(H_tab[3])\n",
    "T04 = np.matmul(np.matmul(np.matmul (T01, T12), T23), T34)\n",
    "print(T04[0:3,3])"
   ]
  },
  {
   "cell_type": "code",
   "execution_count": null,
   "metadata": {},
   "outputs": [],
   "source": []
  },
  {
   "cell_type": "code",
   "execution_count": null,
   "metadata": {},
   "outputs": [],
   "source": []
  },
  {
   "cell_type": "code",
   "execution_count": null,
   "metadata": {},
   "outputs": [],
   "source": []
  },
  {
   "cell_type": "code",
   "execution_count": null,
   "metadata": {},
   "outputs": [],
   "source": []
  },
  {
   "cell_type": "code",
   "execution_count": null,
   "metadata": {},
   "outputs": [],
   "source": []
  },
  {
   "cell_type": "code",
   "execution_count": null,
   "metadata": {},
   "outputs": [],
   "source": []
  },
  {
   "cell_type": "code",
   "execution_count": null,
   "metadata": {},
   "outputs": [],
   "source": []
  },
  {
   "cell_type": "code",
   "execution_count": null,
   "metadata": {},
   "outputs": [],
   "source": []
  },
  {
   "cell_type": "code",
   "execution_count": 47,
   "metadata": {},
   "outputs": [],
   "source": [
    "def H_transformation (param):\n",
    "    tetha = param[0]\n",
    "    alpha = param[1]\n",
    "    r = param[2]\n",
    "    d = param[3]\n",
    "    c_t = math.cos(tetha)\n",
    "    s_t = math.sin(tetha)\n",
    "    c_a = math.cos(alpha)\n",
    "    s_a = math.sin(alpha)\n",
    "    return np.array([\n",
    "        [c_t, (-1*s_t*c_a), (s_t*s_a), (r*c_t)],\n",
    "        [s_t, (c_t*c_a), (-1*c_t*s_a), (r*s_t)],\n",
    "        [0, s_a, c_a, d], \n",
    "        [0,0,0,1]\n",
    "        ])"
   ]
  },
  {
   "cell_type": "code",
   "execution_count": 48,
   "metadata": {},
   "outputs": [],
   "source": [
    "def H_matrix(start, end):\n",
    "    matrix = np.eye(4)\n",
    "    for i in range(start, end):\n",
    "        matrix = np.matmul (matrix, H_transformation(H_tab[i]))\n",
    "    return matrix"
   ]
  },
  {
   "cell_type": "code",
   "execution_count": 49,
   "metadata": {},
   "outputs": [],
   "source": [
    "def R(start, end):\n",
    "    matrix = np.eye(4)\n",
    "    for i in range (start+1, end+1):\n",
    "        matrix = np.matmul(matrix, (H_transformation(H_tab[i-1])))\n",
    "    return matrix [0:3,0:3]"
   ]
  },
  {
   "cell_type": "code",
   "execution_count": 50,
   "metadata": {},
   "outputs": [],
   "source": [
    "def d(start, end):\n",
    "    matrix = np.eye(4)\n",
    "    for i in range (start+1, end+1):\n",
    "        matrix = np.matmul(matrix, (H_transformation(H_tab[i-1])))\n",
    "    return (matrix [0:3,3]).reshape((3,1))"
   ]
  },
  {
   "cell_type": "code",
   "execution_count": 51,
   "metadata": {},
   "outputs": [
    {
     "ename": "SyntaxError",
     "evalue": "invalid syntax (<ipython-input-51-078263194c9b>, line 1)",
     "output_type": "error",
     "traceback": [
      "\u001b[0;36m  File \u001b[0;32m\"<ipython-input-51-078263194c9b>\"\u001b[0;36m, line \u001b[0;32m1\u001b[0m\n\u001b[0;31m    numpy.linalg.pinvdef Jacobian():\u001b[0m\n\u001b[0m                                ^\u001b[0m\n\u001b[0;31mSyntaxError\u001b[0m\u001b[0;31m:\u001b[0m invalid syntax\n"
     ]
    }
   ],
   "source": [
    "numpy.linalg.pinvdef Jacobian():\n",
    "    n = 4\n",
    "    jacobian = []\n",
    "    for i in range(0,4):\n",
    "        my_vec = np.matmul(R(0,i), np.array([[0],[0],[1]])).transpose()[0]\n",
    "        temp = np.cross(my_vec , (d(0,n)-d(0,i)).transpose()[0])\n",
    "        jacobian.append(temp)\n",
    "    jacobian = np.asarray(jacobian)\n",
    "    jacobian = jacobian.transpose()\n",
    "    return jacobian\n"
   ]
  },
  {
   "cell_type": "code",
   "execution_count": 54,
   "metadata": {},
   "outputs": [
    {
     "name": "stdout",
     "output_type": "stream",
     "text": [
      "[[-3.0616170e-16 -3.0616170e-16  5.0000000e+00 -1.2246468e-16]\n",
      " [-3.0616170e-16 -5.0000000e+00 -6.1232340e-16 -2.0000000e+00]\n",
      " [ 0.0000000e+00  3.0616170e-16  3.0616170e-16  1.2246468e-16]]\n"
     ]
    }
   ],
   "source": [
    "tetha = [0,0,0,0]\n",
    "H_tab = H_table(tetha)\n",
    "jac = Jacobian()\n",
    "print(jac)"
   ]
  },
  {
   "cell_type": "code",
   "execution_count": 55,
   "metadata": {},
   "outputs": [
    {
     "data": {
      "text/plain": [
       "array([[-3.061617e-16],\n",
       "       [-5.000000e+00],\n",
       "       [ 3.061617e-16]])"
      ]
     },
     "execution_count": 55,
     "metadata": {},
     "output_type": "execute_result"
    }
   ],
   "source": [
    "delta = np.array([0,1,0,0]).reshape(4,1)\n",
    "np.matmul(jac, delta)"
   ]
  },
  {
   "cell_type": "code",
   "execution_count": 59,
   "metadata": {},
   "outputs": [
    {
     "data": {
      "text/plain": [
       "array([[-4.14901890e-17],\n",
       "       [-6.77586207e-01],\n",
       "       [ 2.70000000e-01],\n",
       "       [-2.71034483e-01]])"
      ]
     },
     "execution_count": 59,
     "metadata": {},
     "output_type": "execute_result"
    }
   ],
   "source": [
    "end  = np.array([1.35,3.93,3.49]).reshape(3,1)\n",
    "jac_inv = np.linalg.pinv(jac)\n",
    "np.matmul(jac_inv, end)"
   ]
  },
  {
   "cell_type": "code",
   "execution_count": null,
   "metadata": {},
   "outputs": [],
   "source": []
  },
  {
   "cell_type": "code",
   "execution_count": 100,
   "metadata": {},
   "outputs": [
    {
     "name": "stdout",
     "output_type": "stream",
     "text": [
      "[0.50849487 4.73166699 3.53387107]\n",
      "tetha [-1.12790354 -1.64897844  1.12808182  0.        ]\n"
     ]
    }
   ],
   "source": [
    "target = np.array([1.35,4,3.5])\n",
    "endpos = np.array([0,0,7])\n",
    "tetha = np.array([float(0),float(0),float(0),float(0)])\n",
    "H_tab = H_table(tetha)\n",
    "for i in range (50):\n",
    "    dist = target-endpos\n",
    "    jac = Jacobian()\n",
    "    jac_inv = np.linalg.pinv(jac)\n",
    "    delta_tetha = np.matmul(jac_inv, dist)\n",
    "    index = np.argmax(np.abs(delta_tetha))\n",
    "    tetha[index] = (float(tetha[index])+float(delta_tetha[index]))\n",
    "#     tetha = tetha+delta_tetha\n",
    "    H_tab = H_table(tetha)\n",
    "    T01 = T(H_tab[0])\n",
    "    T12 = T(H_tab[1])\n",
    "    T23 = T(H_tab[2])\n",
    "    T34 = T(H_tab[3])\n",
    "    T04 = np.matmul(np.matmul(np.matmul (T01, T12), T23), T34)\n",
    "    endpos = (T04[0:3,3])\n",
    "print(endpos)\n",
    "print(\"tetha\", tetha)"
   ]
  },
  {
   "cell_type": "code",
   "execution_count": null,
   "metadata": {},
   "outputs": [],
   "source": []
  },
  {
   "cell_type": "code",
   "execution_count": 101,
   "metadata": {},
   "outputs": [
    {
     "data": {
      "text/plain": [
       "1.120446339634344"
      ]
     },
     "execution_count": 101,
     "metadata": {},
     "output_type": "execute_result"
    }
   ],
   "source": [
    "np.sqrt(np.sum(np.square(np.array([0.85,0.73,0]))))"
   ]
  }
 ],
 "metadata": {
  "kernelspec": {
   "display_name": "Python 3",
   "language": "python",
   "name": "python3"
  },
  "language_info": {
   "codemirror_mode": {
    "name": "ipython",
    "version": 3
   },
   "file_extension": ".py",
   "mimetype": "text/x-python",
   "name": "python",
   "nbconvert_exporter": "python",
   "pygments_lexer": "ipython3",
   "version": "3.7.4"
  }
 },
 "nbformat": 4,
 "nbformat_minor": 2
}
