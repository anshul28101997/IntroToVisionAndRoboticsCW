{
 "cells": [
  {
   "cell_type": "code",
   "execution_count": 46,
   "metadata": {},
   "outputs": [],
   "source": [
    "#!/usr/bin/python\n",
    "import logging\n",
    "import threading\n",
    "import time\n",
    "import key\n",
    "import numpy as np"
   ]
  },
  {
   "cell_type": "code",
   "execution_count": 47,
   "metadata": {},
   "outputs": [],
   "source": [
    "target_position = np.array([6,2,-5]) #target #orange-red positions #orange position with respect to the red"
   ]
  },
  {
   "cell_type": "code",
   "execution_count": 48,
   "metadata": {},
   "outputs": [],
   "source": [
    "def method1():\n",
    "    print(123)\n",
    "    print(123)\n",
    "    print(123)\n",
    "    print(123)\n",
    "def method2():\n",
    "    print(234)\n",
    "    print(234)\n",
    "    print(234)\n",
    "    print(234)\n",
    "    print(234)\n",
    "    print(234)\n",
    "    print(234)\n",
    "    print(234)\n",
    "def method3():\n",
    "    print(345)\n",
    "    print(345)\n",
    "    print(345)\n",
    "    print(345)\n"
   ]
  },
  {
   "cell_type": "code",
   "execution_count": 80,
   "metadata": {},
   "outputs": [
    {
     "name": "stdout",
     "output_type": "stream",
     "text": [
      "123\n",
      "123\n",
      "123\n",
      "234\n",
      "234\n",
      "234\n",
      "234\n",
      "234123\n",
      "\n",
      "234\n",
      "234\n",
      "234\n",
      "345\n",
      "345\n",
      "345\n",
      "345\n"
     ]
    }
   ],
   "source": [
    "if __name__ == \"__main__\":\n",
    "    format = \"%(asctime)s: %(message)s\"\n",
    "    logging.basicConfig(format=format, level=logging.INFO,\n",
    "                        datefmt=\"%H:%M:%S\")\n",
    "\n",
    "    threads = list()\n",
    "    x = threading.Thread(target=method1, args=())\n",
    "    threads.append(x)\n",
    "    x.start()\n",
    "    x = threading.Thread(target=method2, args=())\n",
    "    threads.append(x)\n",
    "    x.start()\n",
    "    x = threading.Thread(target=method3, args=())\n",
    "    threads.append(x)\n",
    "    x.start()\n",
    "\n",
    "    "
   ]
  },
  {
   "cell_type": "raw",
   "metadata": {},
   "source": [
    "thread 1- run image1.py # infinite loop\n",
    "thread 2- run image2.py # infinite loop\n",
    "thread 3- run getLatestOrangeCenter() # infinite loop\n"
   ]
  },
  {
   "cell_type": "code",
   "execution_count": 16,
   "metadata": {},
   "outputs": [],
   "source": [
    "def getLatestOrangeCenter():\n",
    "    global target_position\n",
    "    while True:\n",
    "        center1 = [0,0] # image1.py #YZ axis\n",
    "        target_position = [target_position[0], center1[0], center1[1]]\n",
    "        center2 = [0,0] # image1.py #XZ axis\n",
    "        target_position = [center2[0], target_position[1], center1[1]]\n",
    "        "
   ]
  },
  {
   "cell_type": "raw",
   "metadata": {},
   "source": [
    "have to get and plot against actual orange values"
   ]
  },
  {
   "cell_type": "code",
   "execution_count": null,
   "metadata": {},
   "outputs": [],
   "source": []
  }
 ],
 "metadata": {
  "kernelspec": {
   "display_name": "Python 3",
   "language": "python",
   "name": "python3"
  },
  "language_info": {
   "codemirror_mode": {
    "name": "ipython",
    "version": 3
   },
   "file_extension": ".py",
   "mimetype": "text/x-python",
   "name": "python",
   "nbconvert_exporter": "python",
   "pygments_lexer": "ipython3",
   "version": "3.7.4"
  }
 },
 "nbformat": 4,
 "nbformat_minor": 2
}
